{
 "cells": [
  {
   "cell_type": "code",
   "execution_count": 1,
   "id": "acdd04b6",
   "metadata": {},
   "outputs": [],
   "source": [
    "import json\n",
    "import psycopg2"
   ]
  },
  {
   "cell_type": "code",
   "execution_count": 2,
   "id": "a1f2d1f6",
   "metadata": {},
   "outputs": [],
   "source": [
    "# SAVE THE DB CONFIG IN A DICT OBJECT\n",
    "DATABASE_CONFIG = {\n",
    "    \"database\": \"mydb\",\n",
    "    \"user\": \"postgres\",\n",
    "    \"password\": \"Pradhan@1994\",\n",
    "    \"host\": \"127.0.0.1\",\n",
    "    \"port\":  5432,\n",
    "}\n",
    "  "
   ]
  },
  {
   "cell_type": "code",
   "execution_count": 3,
   "id": "d360ad38",
   "metadata": {},
   "outputs": [],
   "source": [
    "def get_connection():\n",
    "  \n",
    "    # RETURN THE CONNECTION OBJECT\n",
    "    return psycopg2.connect(\n",
    "        database=DATABASE_CONFIG.get('database'),\n",
    "        user=DATABASE_CONFIG.get('user'),\n",
    "        password=DATABASE_CONFIG.get('password'),\n",
    "        host=DATABASE_CONFIG.get('host'),\n",
    "        port=DATABASE_CONFIG.get('port'),\n",
    "    )"
   ]
  },
  {
   "cell_type": "code",
   "execution_count": 4,
   "id": "7ddd444f",
   "metadata": {},
   "outputs": [],
   "source": [
    "def create_table(conn):\n",
    "    cursor = conn.cursor()\n",
    "    # Print PostgreSQL details\n",
    "    sql = '''CREATE TABLE IF NOT EXISTS json_table (id Text NOT NULL,\n",
    "                json_col JSON NULL,\n",
    "                PRIMARY KEY (id))'''\n",
    "    cursor.execute(sql)\n",
    "    print('Table created sucessully')\n",
    "    conn.commit()\n",
    "    conn.close()\n",
    "    print(\"Table created\")\n"
   ]
  },
  {
   "cell_type": "code",
   "execution_count": 5,
   "id": "90847768",
   "metadata": {},
   "outputs": [],
   "source": [
    "def dict_to_json(value: dict):\n",
    "  \n",
    "    # CONVERT DICT TO A JSON STRING AND RETURN\n",
    "    return json.dumps(value)"
   ]
  },
  {
   "cell_type": "code",
   "execution_count": 6,
   "id": "74311c3b",
   "metadata": {},
   "outputs": [],
   "source": [
    "def insert_value(id: str, json_col: str, conn):\n",
    "  \n",
    "    # CREATE A CURSOR USING THE CONNECTION OBJECT\n",
    "    curr = conn.cursor()\n",
    "  \n",
    "    # EXECUTE THE INSERT QUERY\n",
    "    curr.execute(f'''\n",
    "        INSERT INTO\n",
    "            json_table(id, json_col) \n",
    "        VALUES\n",
    "            ('{id}', '{json_col}')\n",
    "    ''')\n",
    "  \n",
    "    # COMMIT THE ABOVE REQUESTS\n",
    "    conn.commit()\n",
    "  \n",
    "    # CLOSE THE CONNECTION\n",
    "    conn.close()"
   ]
  },
  {
   "cell_type": "code",
   "execution_count": 7,
   "id": "090f852c",
   "metadata": {},
   "outputs": [],
   "source": [
    "def main():\n",
    "  \n",
    "    # CREATE A PSYCOPG2 CONNECTION\n",
    "    conn = get_connection()\n",
    "  \n",
    "    # CREATE A PYTHON DICT OBJECT FOR JSON COL\n",
    "    dict_obj = {\n",
    "        \"name\": \"Amit Pathak\",\n",
    "        \"skill\": \"Python\",\n",
    "        \"experience\": 4\n",
    "    }\n",
    "    \n",
    "    create_table(conn)\n",
    "    conn = get_connection()\n",
    "\n",
    "    # CONVERT DICT OBJECT TO JSON STRING\n",
    "    json_obj = dict_to_json(value=dict_obj)\n",
    "  \n",
    "    # INSERT VALUES IN THE DATABASE TABLE\n",
    "    insert_value(id='JSON004', json_col=json_obj,\n",
    "                 conn=conn)"
   ]
  },
  {
   "cell_type": "code",
   "execution_count": 8,
   "id": "cd940157",
   "metadata": {},
   "outputs": [
    {
     "name": "stdout",
     "output_type": "stream",
     "text": [
      "Table created sucessully\n",
      "Table created\n"
     ]
    }
   ],
   "source": [
    "if __name__ == '__main__':\n",
    "    main()"
   ]
  },
  {
   "cell_type": "code",
   "execution_count": null,
   "id": "e4054c7c",
   "metadata": {},
   "outputs": [],
   "source": []
  }
 ],
 "metadata": {
  "kernelspec": {
   "display_name": "Python 3",
   "language": "python",
   "name": "python3"
  },
  "language_info": {
   "codemirror_mode": {
    "name": "ipython",
    "version": 3
   },
   "file_extension": ".py",
   "mimetype": "text/x-python",
   "name": "python",
   "nbconvert_exporter": "python",
   "pygments_lexer": "ipython3",
   "version": "3.8.8"
  }
 },
 "nbformat": 4,
 "nbformat_minor": 5
}
