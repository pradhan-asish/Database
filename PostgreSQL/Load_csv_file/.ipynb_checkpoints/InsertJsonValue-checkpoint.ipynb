{
 "cells": [
  {
   "cell_type": "code",
   "execution_count": 1,
   "id": "c3cb84d2",
   "metadata": {},
   "outputs": [],
   "source": [
    "import json\n",
    "import psycopg2"
   ]
  },
  {
   "cell_type": "code",
   "execution_count": 2,
   "id": "b41d3643",
   "metadata": {},
   "outputs": [],
   "source": [
    "# SAVE THE DB CONFIG IN A DICT OBJECT\n",
    "DATABASE_CONFIG = {\n",
    "    \"database\": \"mydb\",\n",
    "    \"user\": \"postgres\",\n",
    "    \"password\": \"Pradhan@1994\",\n",
    "    \"host\": \"127.0.0.1\",\n",
    "    \"port\":  5432,\n",
    "}\n",
    "  "
   ]
  },
  {
   "cell_type": "code",
   "execution_count": 3,
   "id": "dcf02cc4",
   "metadata": {},
   "outputs": [],
   "source": [
    "def get_connection():\n",
    "  \n",
    "    # RETURN THE CONNECTION OBJECT\n",
    "    return psycopg2.connect(\n",
    "        database=DATABASE_CONFIG.get('database'),\n",
    "        user=DATABASE_CONFIG.get('user'),\n",
    "        password=DATABASE_CONFIG.get('password'),\n",
    "        host=DATABASE_CONFIG.get('host'),\n",
    "        port=DATABASE_CONFIG.get('port'),\n",
    "    )"
   ]
  },
  {
   "cell_type": "code",
   "execution_count": 4,
   "id": "04bf15da",
   "metadata": {},
   "outputs": [],
   "source": [
    "def dict_to_json(value: dict):\n",
    "  \n",
    "    # CONVERT DICT TO A JSON STRING AND RETURN\n",
    "    return json.dumps(value)"
   ]
  },
  {
   "cell_type": "code",
   "execution_count": null,
   "id": "c25f9fc4",
   "metadata": {},
   "outputs": [],
   "source": []
  }
 ],
 "metadata": {
  "kernelspec": {
   "display_name": "Python 3",
   "language": "python",
   "name": "python3"
  },
  "language_info": {
   "codemirror_mode": {
    "name": "ipython",
    "version": 3
   },
   "file_extension": ".py",
   "mimetype": "text/x-python",
   "name": "python",
   "nbconvert_exporter": "python",
   "pygments_lexer": "ipython3",
   "version": "3.8.8"
  }
 },
 "nbformat": 4,
 "nbformat_minor": 5
}
