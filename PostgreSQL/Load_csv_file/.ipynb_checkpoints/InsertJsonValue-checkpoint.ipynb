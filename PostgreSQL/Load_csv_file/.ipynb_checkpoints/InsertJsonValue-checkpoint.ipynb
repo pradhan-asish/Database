{
 "cells": [
  {
   "cell_type": "code",
   "execution_count": 11,
   "id": "17810187",
   "metadata": {},
   "outputs": [],
   "source": [
    "import json\n",
    "import psycopg2"
   ]
  },
  {
   "cell_type": "code",
   "execution_count": 12,
   "id": "299adca7",
   "metadata": {},
   "outputs": [],
   "source": [
    "# SAVE THE DB CONFIG IN A DICT OBJECT\n",
    "DATABASE_CONFIG = {\n",
    "    \"database\": \"mydb\",\n",
    "    \"user\": \"postgres\",\n",
    "    \"password\": \"Pradhan@1994\",\n",
    "    \"host\": \"127.0.0.1\",\n",
    "    \"port\":  5432,\n",
    "}\n",
    "  "
   ]
  },
  {
   "cell_type": "code",
   "execution_count": 13,
   "id": "203f400f",
   "metadata": {},
   "outputs": [],
   "source": [
    "def get_connection():\n",
    "  \n",
    "    # RETURN THE CONNECTION OBJECT\n",
    "    return psycopg2.connect(\n",
    "        database=DATABASE_CONFIG.get('database'),\n",
    "        user=DATABASE_CONFIG.get('user'),\n",
    "        password=DATABASE_CONFIG.get('password'),\n",
    "        host=DATABASE_CONFIG.get('host'),\n",
    "        port=DATABASE_CONFIG.get('port'),\n",
    "    )"
   ]
  },
  {
   "cell_type": "code",
   "execution_count": 14,
   "id": "9c316289",
   "metadata": {},
   "outputs": [],
   "source": [
    "def create_table(conn):\n",
    "    cursor = conn.cursor()\n",
    "    # Print PostgreSQL details\n",
    "    sql = '''CREATE TABLE IF NOT EXISTS json_table (id Text NOT NULL,\n",
    "                json_col JSON NULL,\n",
    "                PRIMARY KEY (id))'''\n",
    "    cursor.execute(sql)\n",
    "    print('Table created sucessully')\n",
    "    conn.commit()\n",
    "    conn.close()\n",
    "    print(\"Table created\")\n"
   ]
  },
  {
   "cell_type": "code",
   "execution_count": 15,
   "id": "3a961e6e",
   "metadata": {},
   "outputs": [],
   "source": [
    "def dict_to_json(value: dict):\n",
    "  \n",
    "    # CONVERT DICT TO A JSON STRING AND RETURN\n",
    "    return json.dumps(value)"
   ]
  },
  {
   "cell_type": "code",
   "execution_count": 16,
   "id": "2db0a86e",
   "metadata": {},
   "outputs": [],
   "source": [
    "def insert_value(id: str, json_col: str, conn):\n",
    "  \n",
    "    # CREATE A CURSOR USING THE CONNECTION OBJECT\n",
    "    curr = conn.cursor()\n",
    "  \n",
    "    # EXECUTE THE INSERT QUERY\n",
    "    curr.execute(f'''\n",
    "        INSERT INTO\n",
    "            json_table(id, json_col) \n",
    "        VALUES\n",
    "            ('{id}', '{json_col}')\n",
    "    ''')\n",
    "  \n",
    "    # COMMIT THE ABOVE REQUESTS\n",
    "    conn.commit()\n",
    "  \n",
    "    # CLOSE THE CONNECTION\n",
    "    conn.close()"
   ]
  },
  {
   "cell_type": "code",
   "execution_count": 17,
   "id": "c016f05a",
   "metadata": {},
   "outputs": [],
   "source": [
    "def main():\n",
    "  \n",
    "    # CREATE A PSYCOPG2 CONNECTION\n",
    "    conn = get_connection()\n",
    "  \n",
    "    # CREATE A PYTHON DICT OBJECT FOR JSON COL\n",
    "    dict_obj = {\n",
    "        \"name\": \"Amit Pathak\",\n",
    "        \"skill\": \"Python\",\n",
    "        \"experience\": 4\n",
    "    }\n",
    "    \n",
    "    create_table(conn)\n",
    "    conn = get_connection()\n",
    "\n",
    "    # CONVERT DICT OBJECT TO JSON STRING\n",
    "    json_obj = dict_to_json(value=dict_obj)\n",
    "  \n",
    "    # INSERT VALUES IN THE DATABASE TABLE\n",
    "    insert_value(id='JSON004', json_col=json_obj,\n",
    "                 conn=conn)"
   ]
  },
  {
   "cell_type": "code",
   "execution_count": 18,
   "id": "d68044f8",
   "metadata": {},
   "outputs": [
    {
     "name": "stdout",
     "output_type": "stream",
     "text": [
      "Table created sucessully\n",
      "Table created\n"
     ]
    },
    {
     "ename": "UniqueViolation",
     "evalue": "duplicate key value violates unique constraint \"json_table_pkey\"\nDETAIL:  Key (id)=(JSON004) already exists.\n",
     "output_type": "error",
     "traceback": [
      "\u001b[1;31m---------------------------------------------------------------------------\u001b[0m",
      "\u001b[1;31mUniqueViolation\u001b[0m                           Traceback (most recent call last)",
      "\u001b[1;32m<ipython-input-18-c7bc734e5e35>\u001b[0m in \u001b[0;36m<module>\u001b[1;34m\u001b[0m\n\u001b[0;32m      1\u001b[0m \u001b[1;32mif\u001b[0m \u001b[0m__name__\u001b[0m \u001b[1;33m==\u001b[0m \u001b[1;34m'__main__'\u001b[0m\u001b[1;33m:\u001b[0m\u001b[1;33m\u001b[0m\u001b[1;33m\u001b[0m\u001b[0m\n\u001b[1;32m----> 2\u001b[1;33m     \u001b[0mmain\u001b[0m\u001b[1;33m(\u001b[0m\u001b[1;33m)\u001b[0m\u001b[1;33m\u001b[0m\u001b[1;33m\u001b[0m\u001b[0m\n\u001b[0m",
      "\u001b[1;32m<ipython-input-17-6390e1f6e7ca>\u001b[0m in \u001b[0;36mmain\u001b[1;34m()\u001b[0m\n\u001b[0;32m     18\u001b[0m \u001b[1;33m\u001b[0m\u001b[0m\n\u001b[0;32m     19\u001b[0m     \u001b[1;31m# INSERT VALUES IN THE DATABASE TABLE\u001b[0m\u001b[1;33m\u001b[0m\u001b[1;33m\u001b[0m\u001b[1;33m\u001b[0m\u001b[0m\n\u001b[1;32m---> 20\u001b[1;33m     insert_value(id='JSON004', json_col=json_obj,\n\u001b[0m\u001b[0;32m     21\u001b[0m                  conn=conn)\n",
      "\u001b[1;32m<ipython-input-16-0cbb9042c869>\u001b[0m in \u001b[0;36minsert_value\u001b[1;34m(id, json_col, conn)\u001b[0m\n\u001b[0;32m      5\u001b[0m \u001b[1;33m\u001b[0m\u001b[0m\n\u001b[0;32m      6\u001b[0m     \u001b[1;31m# EXECUTE THE INSERT QUERY\u001b[0m\u001b[1;33m\u001b[0m\u001b[1;33m\u001b[0m\u001b[1;33m\u001b[0m\u001b[0m\n\u001b[1;32m----> 7\u001b[1;33m     curr.execute(f'''\n\u001b[0m\u001b[0;32m      8\u001b[0m         \u001b[0mINSERT\u001b[0m \u001b[0mINTO\u001b[0m\u001b[1;33m\u001b[0m\u001b[1;33m\u001b[0m\u001b[0m\n\u001b[0;32m      9\u001b[0m             \u001b[0mjson_table\u001b[0m\u001b[1;33m(\u001b[0m\u001b[0mid\u001b[0m\u001b[1;33m,\u001b[0m \u001b[0mjson_col\u001b[0m\u001b[1;33m)\u001b[0m\u001b[1;33m\u001b[0m\u001b[1;33m\u001b[0m\u001b[0m\n",
      "\u001b[1;31mUniqueViolation\u001b[0m: duplicate key value violates unique constraint \"json_table_pkey\"\nDETAIL:  Key (id)=(JSON004) already exists.\n"
     ]
    }
   ],
   "source": [
    "if __name__ == '__main__':\n",
    "    main()"
   ]
  },
  {
   "cell_type": "code",
   "execution_count": 10,
   "id": "a6274dfe",
   "metadata": {},
   "outputs": [],
   "source": [
    "def read_table_data(id: str,conn):\n",
    "    # CREATE A CURSOR USING THE CONNECTION OBJECT\n",
    "    curr = conn.cursor()\n",
    "  \n",
    "    # EXECUTE THE INSERT QUERY\n",
    "    curr.execute(f'''Select * from json_table where id = '{id}'\n",
    "    ''')\n",
    "    \n",
    "    record = curr.fetchall()\n",
    "    print('Read all records:',record)\n",
    "    curr.close()\n",
    "  \n",
    "    # COMMIT THE ABOVE REQUESTS\n",
    "    conn.commit()\n",
    "  \n",
    "    # CLOSE THE CONNECTION\n",
    "    conn.close()\n",
    "    "
   ]
  },
  {
   "cell_type": "code",
   "execution_count": 19,
   "id": "57470151",
   "metadata": {},
   "outputs": [
    {
     "name": "stdout",
     "output_type": "stream",
     "text": [
      "Read all records: [('JSON004', {'name': 'Amit Pathak', 'skill': 'Python', 'experience': 4})]\n"
     ]
    }
   ],
   "source": [
    "read_table_data('JSON004',get_connection())"
   ]
  },
  {
   "cell_type": "code",
   "execution_count": null,
   "id": "822528d1",
   "metadata": {},
   "outputs": [],
   "source": []
  }
 ],
 "metadata": {
  "kernelspec": {
   "display_name": "Python 3",
   "language": "python",
   "name": "python3"
  },
  "language_info": {
   "codemirror_mode": {
    "name": "ipython",
    "version": 3
   },
   "file_extension": ".py",
   "mimetype": "text/x-python",
   "name": "python",
   "nbconvert_exporter": "python",
   "pygments_lexer": "ipython3",
   "version": "3.8.8"
  }
 },
 "nbformat": 4,
 "nbformat_minor": 5
}
