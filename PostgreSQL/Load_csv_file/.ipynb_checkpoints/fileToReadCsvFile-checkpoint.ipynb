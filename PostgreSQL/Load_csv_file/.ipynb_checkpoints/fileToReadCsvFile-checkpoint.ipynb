{
 "cells": [
  {
   "cell_type": "code",
   "execution_count": 36,
   "id": "c35cd574",
   "metadata": {},
   "outputs": [],
   "source": [
    "import pandas as pd\n",
    "import json\n",
    "import psycopg2\n",
    "from psycopg2 import Error"
   ]
  },
  {
   "cell_type": "code",
   "execution_count": 4,
   "id": "da5b135e",
   "metadata": {},
   "outputs": [],
   "source": [
    "df = pd.read_csv('Emp_Details.csv')"
   ]
  },
  {
   "cell_type": "code",
   "execution_count": 5,
   "id": "347da183",
   "metadata": {},
   "outputs": [
    {
     "data": {
      "text/html": [
       "<div>\n",
       "<style scoped>\n",
       "    .dataframe tbody tr th:only-of-type {\n",
       "        vertical-align: middle;\n",
       "    }\n",
       "\n",
       "    .dataframe tbody tr th {\n",
       "        vertical-align: top;\n",
       "    }\n",
       "\n",
       "    .dataframe thead th {\n",
       "        text-align: right;\n",
       "    }\n",
       "</style>\n",
       "<table border=\"1\" class=\"dataframe\">\n",
       "  <thead>\n",
       "    <tr style=\"text-align: right;\">\n",
       "      <th></th>\n",
       "      <th>emp_id</th>\n",
       "      <th>emp_name</th>\n",
       "      <th>emp_age</th>\n",
       "      <th>emp_details</th>\n",
       "    </tr>\n",
       "  </thead>\n",
       "  <tbody>\n",
       "    <tr>\n",
       "      <th>0</th>\n",
       "      <td>121</td>\n",
       "      <td>Asish</td>\n",
       "      <td>26</td>\n",
       "      <td>{\"empSalary\":\"1000\",\"empRank\":\"1\",\"empDesignat...</td>\n",
       "    </tr>\n",
       "    <tr>\n",
       "      <th>1</th>\n",
       "      <td>131</td>\n",
       "      <td>Deepak</td>\n",
       "      <td>28</td>\n",
       "      <td>{\"empSalary\":\"2000\",\"empRank\":\"2\",\"empDesignat...</td>\n",
       "    </tr>\n",
       "    <tr>\n",
       "      <th>2</th>\n",
       "      <td>141</td>\n",
       "      <td>Shakul</td>\n",
       "      <td>29</td>\n",
       "      <td>{\"empSalary\":\"8000\",\"empRank\":\"3\",\"empDesignat...</td>\n",
       "    </tr>\n",
       "    <tr>\n",
       "      <th>3</th>\n",
       "      <td>151</td>\n",
       "      <td>Anu</td>\n",
       "      <td>25</td>\n",
       "      <td>{\"empSalary\":\"7000\",\"empRank\":\"4\",\"empDesignat...</td>\n",
       "    </tr>\n",
       "    <tr>\n",
       "      <th>4</th>\n",
       "      <td>161</td>\n",
       "      <td>Abhishek</td>\n",
       "      <td>26</td>\n",
       "      <td>{\"empSalary\":\"10000\",\"empRank\":\"5\",\"empDesigna...</td>\n",
       "    </tr>\n",
       "    <tr>\n",
       "      <th>5</th>\n",
       "      <td>171</td>\n",
       "      <td>Varun</td>\n",
       "      <td>28</td>\n",
       "      <td>{\"empSalary\":\"11000\",\"empRank\":\"6\",\"empDesigna...</td>\n",
       "    </tr>\n",
       "    <tr>\n",
       "      <th>6</th>\n",
       "      <td>181</td>\n",
       "      <td>Suhani</td>\n",
       "      <td>26</td>\n",
       "      <td>{\"empSalary\":\"1000\",\"empRank\":\"7\",\"empDesignat...</td>\n",
       "    </tr>\n",
       "    <tr>\n",
       "      <th>7</th>\n",
       "      <td>191</td>\n",
       "      <td>Divya</td>\n",
       "      <td>28</td>\n",
       "      <td>{\"empSalary\":\"80000\",\"empRank\":\"8\",\"empDesigna...</td>\n",
       "    </tr>\n",
       "    <tr>\n",
       "      <th>8</th>\n",
       "      <td>101</td>\n",
       "      <td>Satish</td>\n",
       "      <td>27</td>\n",
       "      <td>{\"empSalary\":\"10090\",\"empRank\":\"9\",\"empDesigna...</td>\n",
       "    </tr>\n",
       "    <tr>\n",
       "      <th>9</th>\n",
       "      <td>111</td>\n",
       "      <td>Sk</td>\n",
       "      <td>29</td>\n",
       "      <td>{\"empSalary\":\"77000\",\"empRank\":\"10\",\"empDesign...</td>\n",
       "    </tr>\n",
       "  </tbody>\n",
       "</table>\n",
       "</div>"
      ],
      "text/plain": [
       "   emp_id  emp_name  emp_age  \\\n",
       "0     121     Asish       26   \n",
       "1     131    Deepak       28   \n",
       "2     141    Shakul       29   \n",
       "3     151       Anu       25   \n",
       "4     161  Abhishek       26   \n",
       "5     171     Varun       28   \n",
       "6     181    Suhani       26   \n",
       "7     191     Divya       28   \n",
       "8     101    Satish       27   \n",
       "9     111        Sk       29   \n",
       "\n",
       "                                         emp_details  \n",
       "0  {\"empSalary\":\"1000\",\"empRank\":\"1\",\"empDesignat...  \n",
       "1  {\"empSalary\":\"2000\",\"empRank\":\"2\",\"empDesignat...  \n",
       "2  {\"empSalary\":\"8000\",\"empRank\":\"3\",\"empDesignat...  \n",
       "3  {\"empSalary\":\"7000\",\"empRank\":\"4\",\"empDesignat...  \n",
       "4  {\"empSalary\":\"10000\",\"empRank\":\"5\",\"empDesigna...  \n",
       "5  {\"empSalary\":\"11000\",\"empRank\":\"6\",\"empDesigna...  \n",
       "6  {\"empSalary\":\"1000\",\"empRank\":\"7\",\"empDesignat...  \n",
       "7  {\"empSalary\":\"80000\",\"empRank\":\"8\",\"empDesigna...  \n",
       "8  {\"empSalary\":\"10090\",\"empRank\":\"9\",\"empDesigna...  \n",
       "9  {\"empSalary\":\"77000\",\"empRank\":\"10\",\"empDesign...  "
      ]
     },
     "execution_count": 5,
     "metadata": {},
     "output_type": "execute_result"
    }
   ],
   "source": [
    "df"
   ]
  },
  {
   "cell_type": "code",
   "execution_count": 6,
   "id": "234d3863",
   "metadata": {},
   "outputs": [
    {
     "data": {
      "text/plain": [
       "0    {\"empSalary\":\"1000\",\"empRank\":\"1\",\"empDesignat...\n",
       "1    {\"empSalary\":\"2000\",\"empRank\":\"2\",\"empDesignat...\n",
       "2    {\"empSalary\":\"8000\",\"empRank\":\"3\",\"empDesignat...\n",
       "3    {\"empSalary\":\"7000\",\"empRank\":\"4\",\"empDesignat...\n",
       "4    {\"empSalary\":\"10000\",\"empRank\":\"5\",\"empDesigna...\n",
       "5    {\"empSalary\":\"11000\",\"empRank\":\"6\",\"empDesigna...\n",
       "6    {\"empSalary\":\"1000\",\"empRank\":\"7\",\"empDesignat...\n",
       "7    {\"empSalary\":\"80000\",\"empRank\":\"8\",\"empDesigna...\n",
       "8    {\"empSalary\":\"10090\",\"empRank\":\"9\",\"empDesigna...\n",
       "9    {\"empSalary\":\"77000\",\"empRank\":\"10\",\"empDesign...\n",
       "Name: emp_details, dtype: object"
      ]
     },
     "execution_count": 6,
     "metadata": {},
     "output_type": "execute_result"
    }
   ],
   "source": [
    "df['emp_details']"
   ]
  },
  {
   "cell_type": "code",
   "execution_count": 21,
   "id": "503256bf",
   "metadata": {},
   "outputs": [],
   "source": [
    "df['details']=df['emp_details'].apply(json.loads)"
   ]
  },
  {
   "cell_type": "code",
   "execution_count": 34,
   "id": "3e3dfccb",
   "metadata": {},
   "outputs": [
    {
     "name": "stdout",
     "output_type": "stream",
     "text": [
      "<class 'pandas.core.frame.DataFrame'>\n",
      "RangeIndex: 10 entries, 0 to 9\n",
      "Data columns (total 5 columns):\n",
      " #   Column       Non-Null Count  Dtype \n",
      "---  ------       --------------  ----- \n",
      " 0   emp_id       10 non-null     int64 \n",
      " 1   emp_name     10 non-null     object\n",
      " 2   emp_age      10 non-null     int64 \n",
      " 3   emp_details  10 non-null     object\n",
      " 4   details      10 non-null     object\n",
      "dtypes: int64(2), object(3)\n",
      "memory usage: 528.0+ bytes\n"
     ]
    }
   ],
   "source": [
    "df.info()"
   ]
  },
  {
   "cell_type": "code",
   "execution_count": 35,
   "id": "8f55b56b",
   "metadata": {},
   "outputs": [
    {
     "data": {
      "text/plain": [
       "{'empSalary': '2000', 'empRank': '2', 'empDesignation': 'Data Scientist'}"
      ]
     },
     "execution_count": 35,
     "metadata": {},
     "output_type": "execute_result"
    }
   ],
   "source": [
    "x= []\n",
    "x = df['emp_details'].apply(json.loads)\n",
    "x[1]"
   ]
  },
  {
   "cell_type": "code",
   "execution_count": 17,
   "id": "ad198da2",
   "metadata": {},
   "outputs": [
    {
     "name": "stdout",
     "output_type": "stream",
     "text": [
      "PostgreSQL server information\n",
      "{'user': 'postgres', 'channel_binding': 'prefer', 'dbname': 'mydb', 'host': '127.0.0.1', 'port': '5432', 'tty': '', 'options': '', 'sslmode': 'prefer', 'sslcompression': '0', 'ssl_min_protocol_version': 'TLSv1.2', 'gssencmode': 'disable', 'krbsrvname': 'postgres', 'target_session_attrs': 'any'} \n",
      "\n",
      "You are connected to -  ('PostgreSQL 14.0, compiled by Visual C++ build 1914, 64-bit',) \n",
      "\n",
      "PostgreSQL connection is closed\n"
     ]
    }
   ],
   "source": [
    "\n",
    "try:\n",
    "    # Connect to an existing database\n",
    "    connection = psycopg2.connect(user=\"postgres\",\n",
    "                                  password=\"Pradhan@1994\",\n",
    "                                  host=\"127.0.0.1\",\n",
    "                                  port=\"5432\",\n",
    "                                  database=\"mydb\")\n",
    "\n",
    "    # Create a cursor to perform database operations\n",
    "    cursor = connection.cursor()\n",
    "    # Print PostgreSQL details\n",
    "    print(\"PostgreSQL server information\")\n",
    "    print(connection.get_dsn_parameters(), \"\\n\")\n",
    "    # Executing a SQL query\n",
    "    cursor.execute(\"SELECT version();\")\n",
    "    # Fetch result\n",
    "    record = cursor.fetchone()\n",
    "    print(\"You are connected to - \", record, \"\\n\")\n",
    "\n",
    "except (Exception, Error) as error:\n",
    "    print(\"Error while connecting to PostgreSQL\", error)\n",
    "finally:\n",
    "    if (connection):\n",
    "        cursor.close()\n",
    "        connection.close()\n",
    "        print(\"PostgreSQL connection is closed\")"
   ]
  },
  {
   "cell_type": "code",
   "execution_count": null,
   "id": "741d10f5",
   "metadata": {},
   "outputs": [],
   "source": []
  }
 ],
 "metadata": {
  "kernelspec": {
   "display_name": "Python 3",
   "language": "python",
   "name": "python3"
  },
  "language_info": {
   "codemirror_mode": {
    "name": "ipython",
    "version": 3
   },
   "file_extension": ".py",
   "mimetype": "text/x-python",
   "name": "python",
   "nbconvert_exporter": "python",
   "pygments_lexer": "ipython3",
   "version": "3.8.8"
  }
 },
 "nbformat": 4,
 "nbformat_minor": 5
}
