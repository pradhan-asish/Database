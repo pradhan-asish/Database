{
 "cells": [
  {
   "cell_type": "code",
   "execution_count": 1,
   "id": "2fc7bfff",
   "metadata": {},
   "outputs": [],
   "source": [
    "import pandas as pd\n",
    "import json\n",
    "import psycopg2\n",
    "from psycopg2 import Error"
   ]
  },
  {
   "cell_type": "code",
   "execution_count": 2,
   "id": "f0d2d963",
   "metadata": {},
   "outputs": [],
   "source": [
    "df = pd.read_csv('Emp_Details.csv')"
   ]
  },
  {
   "cell_type": "code",
   "execution_count": 3,
   "id": "87cabc31",
   "metadata": {},
   "outputs": [
    {
     "data": {
      "text/html": [
       "<div>\n",
       "<style scoped>\n",
       "    .dataframe tbody tr th:only-of-type {\n",
       "        vertical-align: middle;\n",
       "    }\n",
       "\n",
       "    .dataframe tbody tr th {\n",
       "        vertical-align: top;\n",
       "    }\n",
       "\n",
       "    .dataframe thead th {\n",
       "        text-align: right;\n",
       "    }\n",
       "</style>\n",
       "<table border=\"1\" class=\"dataframe\">\n",
       "  <thead>\n",
       "    <tr style=\"text-align: right;\">\n",
       "      <th></th>\n",
       "      <th>emp_id</th>\n",
       "      <th>emp_name</th>\n",
       "      <th>emp_age</th>\n",
       "      <th>emp_details</th>\n",
       "    </tr>\n",
       "  </thead>\n",
       "  <tbody>\n",
       "    <tr>\n",
       "      <th>0</th>\n",
       "      <td>121</td>\n",
       "      <td>Asish</td>\n",
       "      <td>26</td>\n",
       "      <td>{\"empSalary\":\"1000\",\"empRank\":\"1\",\"empDesignat...</td>\n",
       "    </tr>\n",
       "    <tr>\n",
       "      <th>1</th>\n",
       "      <td>131</td>\n",
       "      <td>Deepak</td>\n",
       "      <td>28</td>\n",
       "      <td>{\"empSalary\":\"2000\",\"empRank\":\"2\",\"empDesignat...</td>\n",
       "    </tr>\n",
       "    <tr>\n",
       "      <th>2</th>\n",
       "      <td>141</td>\n",
       "      <td>Shakul</td>\n",
       "      <td>29</td>\n",
       "      <td>{\"empSalary\":\"8000\",\"empRank\":\"3\",\"empDesignat...</td>\n",
       "    </tr>\n",
       "    <tr>\n",
       "      <th>3</th>\n",
       "      <td>151</td>\n",
       "      <td>Anu</td>\n",
       "      <td>25</td>\n",
       "      <td>{\"empSalary\":\"7000\",\"empRank\":\"4\",\"empDesignat...</td>\n",
       "    </tr>\n",
       "    <tr>\n",
       "      <th>4</th>\n",
       "      <td>161</td>\n",
       "      <td>Abhishek</td>\n",
       "      <td>26</td>\n",
       "      <td>{\"empSalary\":\"10000\",\"empRank\":\"5\",\"empDesigna...</td>\n",
       "    </tr>\n",
       "    <tr>\n",
       "      <th>5</th>\n",
       "      <td>171</td>\n",
       "      <td>Varun</td>\n",
       "      <td>28</td>\n",
       "      <td>{\"empSalary\":\"11000\",\"empRank\":\"6\",\"empDesigna...</td>\n",
       "    </tr>\n",
       "    <tr>\n",
       "      <th>6</th>\n",
       "      <td>181</td>\n",
       "      <td>Suhani</td>\n",
       "      <td>26</td>\n",
       "      <td>{\"empSalary\":\"1000\",\"empRank\":\"7\",\"empDesignat...</td>\n",
       "    </tr>\n",
       "    <tr>\n",
       "      <th>7</th>\n",
       "      <td>191</td>\n",
       "      <td>Divya</td>\n",
       "      <td>28</td>\n",
       "      <td>{\"empSalary\":\"80000\",\"empRank\":\"8\",\"empDesigna...</td>\n",
       "    </tr>\n",
       "    <tr>\n",
       "      <th>8</th>\n",
       "      <td>101</td>\n",
       "      <td>Satish</td>\n",
       "      <td>27</td>\n",
       "      <td>{\"empSalary\":\"10090\",\"empRank\":\"9\",\"empDesigna...</td>\n",
       "    </tr>\n",
       "    <tr>\n",
       "      <th>9</th>\n",
       "      <td>111</td>\n",
       "      <td>Sk</td>\n",
       "      <td>29</td>\n",
       "      <td>{\"empSalary\":\"77000\",\"empRank\":\"10\",\"empDesign...</td>\n",
       "    </tr>\n",
       "  </tbody>\n",
       "</table>\n",
       "</div>"
      ],
      "text/plain": [
       "   emp_id  emp_name  emp_age  \\\n",
       "0     121     Asish       26   \n",
       "1     131    Deepak       28   \n",
       "2     141    Shakul       29   \n",
       "3     151       Anu       25   \n",
       "4     161  Abhishek       26   \n",
       "5     171     Varun       28   \n",
       "6     181    Suhani       26   \n",
       "7     191     Divya       28   \n",
       "8     101    Satish       27   \n",
       "9     111        Sk       29   \n",
       "\n",
       "                                         emp_details  \n",
       "0  {\"empSalary\":\"1000\",\"empRank\":\"1\",\"empDesignat...  \n",
       "1  {\"empSalary\":\"2000\",\"empRank\":\"2\",\"empDesignat...  \n",
       "2  {\"empSalary\":\"8000\",\"empRank\":\"3\",\"empDesignat...  \n",
       "3  {\"empSalary\":\"7000\",\"empRank\":\"4\",\"empDesignat...  \n",
       "4  {\"empSalary\":\"10000\",\"empRank\":\"5\",\"empDesigna...  \n",
       "5  {\"empSalary\":\"11000\",\"empRank\":\"6\",\"empDesigna...  \n",
       "6  {\"empSalary\":\"1000\",\"empRank\":\"7\",\"empDesignat...  \n",
       "7  {\"empSalary\":\"80000\",\"empRank\":\"8\",\"empDesigna...  \n",
       "8  {\"empSalary\":\"10090\",\"empRank\":\"9\",\"empDesigna...  \n",
       "9  {\"empSalary\":\"77000\",\"empRank\":\"10\",\"empDesign...  "
      ]
     },
     "execution_count": 3,
     "metadata": {},
     "output_type": "execute_result"
    }
   ],
   "source": [
    "df"
   ]
  },
  {
   "cell_type": "code",
   "execution_count": 158,
   "id": "9b598035",
   "metadata": {},
   "outputs": [
    {
     "data": {
      "text/plain": [
       "0    {\"empSalary\":\"1000\",\"empRank\":\"1\",\"empDesignat...\n",
       "1    {\"empSalary\":\"2000\",\"empRank\":\"2\",\"empDesignat...\n",
       "2    {\"empSalary\":\"8000\",\"empRank\":\"3\",\"empDesignat...\n",
       "3    {\"empSalary\":\"7000\",\"empRank\":\"4\",\"empDesignat...\n",
       "4    {\"empSalary\":\"10000\",\"empRank\":\"5\",\"empDesigna...\n",
       "5    {\"empSalary\":\"11000\",\"empRank\":\"6\",\"empDesigna...\n",
       "6    {\"empSalary\":\"1000\",\"empRank\":\"7\",\"empDesignat...\n",
       "7    {\"empSalary\":\"80000\",\"empRank\":\"8\",\"empDesigna...\n",
       "8    {\"empSalary\":\"10090\",\"empRank\":\"9\",\"empDesigna...\n",
       "9    {\"empSalary\":\"77000\",\"empRank\":\"10\",\"empDesign...\n",
       "Name: emp_details, dtype: object"
      ]
     },
     "execution_count": 158,
     "metadata": {},
     "output_type": "execute_result"
    }
   ],
   "source": [
    "df['emp_details']"
   ]
  },
  {
   "cell_type": "code",
   "execution_count": 6,
   "id": "19158fba",
   "metadata": {},
   "outputs": [],
   "source": [
    "df['details']=df['emp_details'].apply(json.dumps)"
   ]
  },
  {
   "cell_type": "code",
   "execution_count": 7,
   "id": "c152a740",
   "metadata": {},
   "outputs": [
    {
     "name": "stdout",
     "output_type": "stream",
     "text": [
      "<class 'pandas.core.frame.DataFrame'>\n",
      "RangeIndex: 10 entries, 0 to 9\n",
      "Data columns (total 5 columns):\n",
      " #   Column       Non-Null Count  Dtype \n",
      "---  ------       --------------  ----- \n",
      " 0   emp_id       10 non-null     int64 \n",
      " 1   emp_name     10 non-null     object\n",
      " 2   emp_age      10 non-null     int64 \n",
      " 3   emp_details  10 non-null     object\n",
      " 4   details      10 non-null     object\n",
      "dtypes: int64(2), object(3)\n",
      "memory usage: 528.0+ bytes\n"
     ]
    }
   ],
   "source": [
    "df.info()"
   ]
  },
  {
   "cell_type": "code",
   "execution_count": 8,
   "id": "8087c8f6",
   "metadata": {},
   "outputs": [
    {
     "name": "stdout",
     "output_type": "stream",
     "text": [
      "object\n"
     ]
    },
    {
     "data": {
      "text/html": [
       "<div>\n",
       "<style scoped>\n",
       "    .dataframe tbody tr th:only-of-type {\n",
       "        vertical-align: middle;\n",
       "    }\n",
       "\n",
       "    .dataframe tbody tr th {\n",
       "        vertical-align: top;\n",
       "    }\n",
       "\n",
       "    .dataframe thead th {\n",
       "        text-align: right;\n",
       "    }\n",
       "</style>\n",
       "<table border=\"1\" class=\"dataframe\">\n",
       "  <thead>\n",
       "    <tr style=\"text-align: right;\">\n",
       "      <th></th>\n",
       "      <th>emp_id</th>\n",
       "      <th>emp_name</th>\n",
       "      <th>emp_age</th>\n",
       "      <th>details</th>\n",
       "    </tr>\n",
       "  </thead>\n",
       "  <tbody>\n",
       "    <tr>\n",
       "      <th>0</th>\n",
       "      <td>121</td>\n",
       "      <td>Asish</td>\n",
       "      <td>26</td>\n",
       "      <td>\"{\\\"empSalary\\\":\\\"1000\\\",\\\"empRank\\\":\\\"1\\\",\\\"e...</td>\n",
       "    </tr>\n",
       "    <tr>\n",
       "      <th>1</th>\n",
       "      <td>131</td>\n",
       "      <td>Deepak</td>\n",
       "      <td>28</td>\n",
       "      <td>\"{\\\"empSalary\\\":\\\"2000\\\",\\\"empRank\\\":\\\"2\\\",\\\"e...</td>\n",
       "    </tr>\n",
       "    <tr>\n",
       "      <th>2</th>\n",
       "      <td>141</td>\n",
       "      <td>Shakul</td>\n",
       "      <td>29</td>\n",
       "      <td>\"{\\\"empSalary\\\":\\\"8000\\\",\\\"empRank\\\":\\\"3\\\",\\\"e...</td>\n",
       "    </tr>\n",
       "    <tr>\n",
       "      <th>3</th>\n",
       "      <td>151</td>\n",
       "      <td>Anu</td>\n",
       "      <td>25</td>\n",
       "      <td>\"{\\\"empSalary\\\":\\\"7000\\\",\\\"empRank\\\":\\\"4\\\",\\\"e...</td>\n",
       "    </tr>\n",
       "    <tr>\n",
       "      <th>4</th>\n",
       "      <td>161</td>\n",
       "      <td>Abhishek</td>\n",
       "      <td>26</td>\n",
       "      <td>\"{\\\"empSalary\\\":\\\"10000\\\",\\\"empRank\\\":\\\"5\\\",\\\"...</td>\n",
       "    </tr>\n",
       "    <tr>\n",
       "      <th>5</th>\n",
       "      <td>171</td>\n",
       "      <td>Varun</td>\n",
       "      <td>28</td>\n",
       "      <td>\"{\\\"empSalary\\\":\\\"11000\\\",\\\"empRank\\\":\\\"6\\\",\\\"...</td>\n",
       "    </tr>\n",
       "    <tr>\n",
       "      <th>6</th>\n",
       "      <td>181</td>\n",
       "      <td>Suhani</td>\n",
       "      <td>26</td>\n",
       "      <td>\"{\\\"empSalary\\\":\\\"1000\\\",\\\"empRank\\\":\\\"7\\\",\\\"e...</td>\n",
       "    </tr>\n",
       "    <tr>\n",
       "      <th>7</th>\n",
       "      <td>191</td>\n",
       "      <td>Divya</td>\n",
       "      <td>28</td>\n",
       "      <td>\"{\\\"empSalary\\\":\\\"80000\\\",\\\"empRank\\\":\\\"8\\\",\\\"...</td>\n",
       "    </tr>\n",
       "    <tr>\n",
       "      <th>8</th>\n",
       "      <td>101</td>\n",
       "      <td>Satish</td>\n",
       "      <td>27</td>\n",
       "      <td>\"{\\\"empSalary\\\":\\\"10090\\\",\\\"empRank\\\":\\\"9\\\",\\\"...</td>\n",
       "    </tr>\n",
       "    <tr>\n",
       "      <th>9</th>\n",
       "      <td>111</td>\n",
       "      <td>Sk</td>\n",
       "      <td>29</td>\n",
       "      <td>\"{\\\"empSalary\\\":\\\"77000\\\",\\\"empRank\\\":\\\"10\\\",\\...</td>\n",
       "    </tr>\n",
       "  </tbody>\n",
       "</table>\n",
       "</div>"
      ],
      "text/plain": [
       "   emp_id  emp_name  emp_age  \\\n",
       "0     121     Asish       26   \n",
       "1     131    Deepak       28   \n",
       "2     141    Shakul       29   \n",
       "3     151       Anu       25   \n",
       "4     161  Abhishek       26   \n",
       "5     171     Varun       28   \n",
       "6     181    Suhani       26   \n",
       "7     191     Divya       28   \n",
       "8     101    Satish       27   \n",
       "9     111        Sk       29   \n",
       "\n",
       "                                             details  \n",
       "0  \"{\\\"empSalary\\\":\\\"1000\\\",\\\"empRank\\\":\\\"1\\\",\\\"e...  \n",
       "1  \"{\\\"empSalary\\\":\\\"2000\\\",\\\"empRank\\\":\\\"2\\\",\\\"e...  \n",
       "2  \"{\\\"empSalary\\\":\\\"8000\\\",\\\"empRank\\\":\\\"3\\\",\\\"e...  \n",
       "3  \"{\\\"empSalary\\\":\\\"7000\\\",\\\"empRank\\\":\\\"4\\\",\\\"e...  \n",
       "4  \"{\\\"empSalary\\\":\\\"10000\\\",\\\"empRank\\\":\\\"5\\\",\\\"...  \n",
       "5  \"{\\\"empSalary\\\":\\\"11000\\\",\\\"empRank\\\":\\\"6\\\",\\\"...  \n",
       "6  \"{\\\"empSalary\\\":\\\"1000\\\",\\\"empRank\\\":\\\"7\\\",\\\"e...  \n",
       "7  \"{\\\"empSalary\\\":\\\"80000\\\",\\\"empRank\\\":\\\"8\\\",\\\"...  \n",
       "8  \"{\\\"empSalary\\\":\\\"10090\\\",\\\"empRank\\\":\\\"9\\\",\\\"...  \n",
       "9  \"{\\\"empSalary\\\":\\\"77000\\\",\\\"empRank\\\":\\\"10\\\",\\...  "
      ]
     },
     "execution_count": 8,
     "metadata": {},
     "output_type": "execute_result"
    }
   ],
   "source": [
    "x= []\n",
    "x = df['emp_details'].apply(json.loads)\n",
    "print(x.dtypes)\n",
    "df1 = [df[\"emp_id\"],df[\"emp_name\"],df[\"emp_age\"],df[\"details\"]]\n",
    "df2 = pd.concat(df1, axis=1 , keys = ['emp_id','emp_name','emp_age','details'])\n",
    "df2"
   ]
  },
  {
   "cell_type": "code",
   "execution_count": 9,
   "id": "69c10397",
   "metadata": {},
   "outputs": [
    {
     "name": "stdout",
     "output_type": "stream",
     "text": [
      "Table created sucessully\n",
      "Table created\n",
      "PostgreSQL connection is closed\n"
     ]
    }
   ],
   "source": [
    "try:\n",
    "    # Connect to an existing database\n",
    "    connection = psycopg2.connect(user=\"postgres\",\n",
    "                                  password=\"Pradhan@1994\",\n",
    "                                  host=\"127.0.0.1\",\n",
    "                                  port=\"5432\",\n",
    "                                  database=\"mydb\")\n",
    "    # Create a cursor to perform database operations\n",
    "    cursor = connection.cursor()\n",
    "    # Print PostgreSQL details\n",
    "    sql = '''CREATE TABLE IF NOT EXISTS Employee_Details (emp_id INT NOT NULL,\n",
    "                emp_name Text NOT NULL,\n",
    "                emp_age INT NOT NULL,\n",
    "                emp_details JSON NULL,\n",
    "                PRIMARY KEY (emp_id))'''\n",
    "    cursor.execute(sql)\n",
    "    print('Table created sucessully')\n",
    "    connection.commit()\n",
    "    connection.close()\n",
    "    print(\"Table created\")\n",
    "    \n",
    "except (Exception, Error) as error:\n",
    "    print(\"Error while connecting to PostgreSQL\", error)\n",
    "finally:\n",
    "    if (connection):\n",
    "        cursor.close()\n",
    "        connection.close()\n",
    "        print(\"PostgreSQL connection is closed\")"
   ]
  },
  {
   "cell_type": "code",
   "execution_count": 19,
   "id": "67b125cd",
   "metadata": {},
   "outputs": [
    {
     "name": "stdout",
     "output_type": "stream",
     "text": [
      "PostgreSQL connection is closed\n"
     ]
    }
   ],
   "source": [
    "try:\n",
    "    connection = psycopg2.connect(user=\"postgres\",\n",
    "                                  password=\"Pradhan@1994\",\n",
    "                                  host=\"127.0.0.1\",\n",
    "                                  port=\"5432\",\n",
    "                                  database=\"mydb\")\n",
    "    # Create a cursor to perform database operations\n",
    "    cursor = connection.cursor()\n",
    "    for i in df2.index:\n",
    "        sql= f'''INSERT into Employee_Details (emp_id, emp_name, emp_age,emp_details) values('{df2['emp_id'][i]}','{ df2['emp_name'][i]}'\n",
    "        ,'{df2['emp_age'][i]}','{json.loads(df2['details'][i])}');''' \n",
    "        cursor = connection.cursor()\n",
    "        cursor.execute(sql)\n",
    "        connection.commit() \n",
    "        \n",
    "except (Exception, Error) as error:\n",
    "    print(\"Error while connecting to PostgreSQL\", error)\n",
    "finally:\n",
    "    if (connection):\n",
    "        cursor.close()\n",
    "        connection.close()\n",
    "        print(\"PostgreSQL connection is closed\")"
   ]
  },
  {
   "cell_type": "code",
   "execution_count": 37,
   "id": "cb185bc3",
   "metadata": {},
   "outputs": [
    {
     "name": "stdout",
     "output_type": "stream",
     "text": [
      "121 Asish 26 {\"empSalary\": \"1000\", \"empRank\": \"1\", \"empDesignation\": \"Data Analyst\"}\n",
      "131 Deepak 28 {\"empSalary\": \"2000\", \"empRank\": \"2\", \"empDesignation\": \"Data Scientist\"}\n",
      "141 Shakul 29 {\"empSalary\": \"8000\", \"empRank\": \"3\", \"empDesignation\": \"Data Analyst\"}\n",
      "151 Anu 25 {\"empSalary\": \"7000\", \"empRank\": \"4\", \"empDesignation\": \"IT Support\"}\n",
      "161 Abhishek 26 {\"empSalary\": \"10000\", \"empRank\": \"5\", \"empDesignation\": \"Web Developer\"}\n",
      "171 Varun 28 {\"empSalary\": \"11000\", \"empRank\": \"6\", \"empDesignation\": \"Architect\"}\n",
      "181 Suhani 26 {\"empSalary\": \"1000\", \"empRank\": \"7\", \"empDesignation\": \"Data Analyst\"}\n",
      "191 Divya 28 {\"empSalary\": \"80000\", \"empRank\": \"8\", \"empDesignation\": \"Data Analyst\"}\n",
      "101 Satish 27 {\"empSalary\": \"10090\", \"empRank\": \"9\", \"empDesignation\": \"Tech Lead\"}\n",
      "111 Sk 29 {\"empSalary\": \"77000\", \"empRank\": \"10\", \"empDesignation\": \"Tester\"}\n"
     ]
    }
   ],
   "source": [
    "for i in df2.index:\n",
    "    print(df2['emp_id'][i], df2['emp_name'][i], df2['emp_age'][i], json.dumps(df2['details'][i]))\n",
    "    "
   ]
  },
  {
   "cell_type": "code",
   "execution_count": 38,
   "id": "cfe1f40b",
   "metadata": {},
   "outputs": [
    {
     "name": "stdout",
     "output_type": "stream",
     "text": [
      "<class 'pandas.core.frame.DataFrame'>\n",
      "RangeIndex: 10 entries, 0 to 9\n",
      "Data columns (total 4 columns):\n",
      " #   Column    Non-Null Count  Dtype \n",
      "---  ------    --------------  ----- \n",
      " 0   emp_id    10 non-null     int64 \n",
      " 1   emp_name  10 non-null     object\n",
      " 2   emp_age   10 non-null     int64 \n",
      " 3   details   10 non-null     object\n",
      "dtypes: int64(2), object(2)\n",
      "memory usage: 448.0+ bytes\n"
     ]
    }
   ],
   "source": [
    "df2.info()"
   ]
  },
  {
   "cell_type": "code",
   "execution_count": null,
   "id": "7fc381a5",
   "metadata": {},
   "outputs": [],
   "source": [
    "def view_data(emp_id: int):\n",
    "    connection = psycopg2.connect(user=\"postgres\",\n",
    "                                  password=\"Pradhan@1994\",\n",
    "                                  host=\"127.0.0.1\",\n",
    "                                  port=\"5432\",\n",
    "                                  database=\"mydb\")\n",
    "    \n",
    "    sql = f'''Select * from Employee_Details where emp_id='{emp_id}''''\n",
    "    cursor = connection.cursor()\n",
    "    cursor.execute(sql)\n",
    "    record = curr.fetchall()\n",
    "    print('Read all records:',record)\n",
    "    curr.close()\n",
    "    connection.close()\n",
    "    "
   ]
  }
 ],
 "metadata": {
  "kernelspec": {
   "display_name": "Python 3",
   "language": "python",
   "name": "python3"
  },
  "language_info": {
   "codemirror_mode": {
    "name": "ipython",
    "version": 3
   },
   "file_extension": ".py",
   "mimetype": "text/x-python",
   "name": "python",
   "nbconvert_exporter": "python",
   "pygments_lexer": "ipython3",
   "version": "3.8.8"
  }
 },
 "nbformat": 4,
 "nbformat_minor": 5
}
