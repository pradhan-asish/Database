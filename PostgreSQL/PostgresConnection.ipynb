{
 "cells": [
  {
   "cell_type": "code",
   "execution_count": 3,
   "id": "30444aed",
   "metadata": {},
   "outputs": [],
   "source": [
    "import psycopg2\n",
    "#establishing the connection\n",
    "\n",
    "conn = psycopg2.connect(database=\"mydb\", user='postgres', password='Pradhan@1994', host='127.0.0.1', port= '5432')\n",
    "conn.autocommit = True\n",
    "\n",
    "#Creating a cursor object using the cursor() method\n",
    "#cursor = conn.cursor()\n",
    "\n",
    "#Preparing query to create a database\n",
    "#sql = '''CREATE database mydb''';\n",
    "\n",
    "#Creating a database\n",
    "#cursor.execute(sql)\n",
    "#print(\"Database created successfully........\")\n",
    "\n",
    "#Closing the connection\n",
    "conn.close()\n"
   ]
  },
  {
   "cell_type": "code",
   "execution_count": null,
   "id": "df818001",
   "metadata": {},
   "outputs": [],
   "source": []
  }
 ],
 "metadata": {
  "kernelspec": {
   "display_name": "Python 3",
   "language": "python",
   "name": "python3"
  },
  "language_info": {
   "codemirror_mode": {
    "name": "ipython",
    "version": 3
   },
   "file_extension": ".py",
   "mimetype": "text/x-python",
   "name": "python",
   "nbconvert_exporter": "python",
   "pygments_lexer": "ipython3",
   "version": "3.8.8"
  }
 },
 "nbformat": 4,
 "nbformat_minor": 5
}
